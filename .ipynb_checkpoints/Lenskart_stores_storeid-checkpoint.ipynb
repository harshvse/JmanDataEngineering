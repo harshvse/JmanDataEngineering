{
 "cells": [
  {
   "cell_type": "code",
   "execution_count": 8,
   "id": "a14a7b9c-dec0-4ac1-bf09-a6f25dde58d6",
   "metadata": {},
   "outputs": [
    {
     "name": "stdout",
     "output_type": "stream",
     "text": [
      "Requirement already satisfied: requests-html in e:\\programs\\anaconda3\\lib\\site-packages (0.10.0)\n",
      "Requirement already satisfied: requests in e:\\programs\\anaconda3\\lib\\site-packages (from requests-html) (2.31.0)\n",
      "Requirement already satisfied: pyquery in e:\\programs\\anaconda3\\lib\\site-packages (from requests-html) (2.0.0)\n",
      "Requirement already satisfied: fake-useragent in e:\\programs\\anaconda3\\lib\\site-packages (from requests-html) (1.5.1)\n",
      "Requirement already satisfied: parse in e:\\programs\\anaconda3\\lib\\site-packages (from requests-html) (1.20.1)\n",
      "Requirement already satisfied: bs4 in e:\\programs\\anaconda3\\lib\\site-packages (from requests-html) (0.0.2)\n",
      "Requirement already satisfied: w3lib in e:\\programs\\anaconda3\\lib\\site-packages (from requests-html) (2.1.2)\n",
      "Requirement already satisfied: pyppeteer>=0.0.14 in e:\\programs\\anaconda3\\lib\\site-packages (from requests-html) (2.0.0)\n",
      "Requirement already satisfied: appdirs<2.0.0,>=1.4.3 in e:\\programs\\anaconda3\\lib\\site-packages (from pyppeteer>=0.0.14->requests-html) (1.4.4)\n",
      "Requirement already satisfied: certifi>=2023 in e:\\programs\\anaconda3\\lib\\site-packages (from pyppeteer>=0.0.14->requests-html) (2024.2.2)\n",
      "Requirement already satisfied: importlib-metadata>=1.4 in e:\\programs\\anaconda3\\lib\\site-packages (from pyppeteer>=0.0.14->requests-html) (7.0.1)\n",
      "Requirement already satisfied: pyee<12.0.0,>=11.0.0 in e:\\programs\\anaconda3\\lib\\site-packages (from pyppeteer>=0.0.14->requests-html) (11.1.0)\n",
      "Requirement already satisfied: tqdm<5.0.0,>=4.42.1 in e:\\programs\\anaconda3\\lib\\site-packages (from pyppeteer>=0.0.14->requests-html) (4.65.0)\n",
      "Requirement already satisfied: urllib3<2.0.0,>=1.25.8 in e:\\programs\\anaconda3\\lib\\site-packages (from pyppeteer>=0.0.14->requests-html) (1.26.18)\n",
      "Requirement already satisfied: websockets<11.0,>=10.0 in e:\\programs\\anaconda3\\lib\\site-packages (from pyppeteer>=0.0.14->requests-html) (10.4)\n",
      "Requirement already satisfied: beautifulsoup4 in e:\\programs\\anaconda3\\lib\\site-packages (from bs4->requests-html) (4.12.2)\n",
      "Requirement already satisfied: lxml>=2.1 in e:\\programs\\anaconda3\\lib\\site-packages (from pyquery->requests-html) (4.9.3)\n",
      "Requirement already satisfied: cssselect>=1.2.0 in e:\\programs\\anaconda3\\lib\\site-packages (from pyquery->requests-html) (1.2.0)\n",
      "Requirement already satisfied: charset-normalizer<4,>=2 in e:\\programs\\anaconda3\\lib\\site-packages (from requests->requests-html) (2.0.4)\n",
      "Requirement already satisfied: idna<4,>=2.5 in e:\\programs\\anaconda3\\lib\\site-packages (from requests->requests-html) (3.4)\n",
      "Requirement already satisfied: zipp>=0.5 in e:\\programs\\anaconda3\\lib\\site-packages (from importlib-metadata>=1.4->pyppeteer>=0.0.14->requests-html) (3.17.0)\n",
      "Requirement already satisfied: typing-extensions in e:\\programs\\anaconda3\\lib\\site-packages (from pyee<12.0.0,>=11.0.0->pyppeteer>=0.0.14->requests-html) (4.9.0)\n",
      "Requirement already satisfied: colorama in e:\\programs\\anaconda3\\lib\\site-packages (from tqdm<5.0.0,>=4.42.1->pyppeteer>=0.0.14->requests-html) (0.4.6)\n",
      "Requirement already satisfied: soupsieve>1.2 in e:\\programs\\anaconda3\\lib\\site-packages (from beautifulsoup4->bs4->requests-html) (2.5)\n",
      "Note: you may need to restart the kernel to use updated packages.\n"
     ]
    }
   ],
   "source": [
    "pip install requests-html"
   ]
  },
  {
   "cell_type": "code",
   "execution_count": null,
   "id": "512bec8b-0108-45d0-88d0-4f1f66ec228f",
   "metadata": {},
   "outputs": [],
   "source": [
    "import os\n",
    "PYPPETEER_CHROMIUM_REVISION = '1263111'\n",
    "os.environ['PYPPETEER_CHROMIUM_REVISION'] = PYPPETEER_CHROMIUM_REVISION"
   ]
  },
  {
   "cell_type": "code",
   "execution_count": null,
   "id": "b3f654f9-b9f5-49e6-abac-9bdbd8fc827b",
   "metadata": {
    "scrolled": true
   },
   "outputs": [],
   "source": [
    "import csv\n",
    "from bs4 import BeautifulSoup\n",
    "import requests\n",
    "import pandas as pd\n",
    "import numpy as np\n",
    "import re\n",
    "import json\n",
    "from csv import writer\n",
    "\n",
    "store_codes = []\n",
    "with open('storeLinks.csv', mode ='r')as file:\n",
    "    csvFile = csv.reader(file)\n",
    "    for lines in csvFile:\n",
    "        for line in lines:\n",
    "            print(line)\n",
    "            store_page = requests.get(\"https://www.lenskart.com\" + line)\n",
    "            soup = BeautifulSoup(store_page.text, \"html.parser\")\n",
    "            # Find the <script> tag containing the JSON data\n",
    "            script_tag = soup.find('script', {'id': '__NEXT_DATA__'})\n",
    "            if(script_tag):\n",
    "                # Extract the JSON data from the script tag\n",
    "                json_data = script_tag.string\n",
    "                \n",
    "                # Parse the JSON data\n",
    "                data = json.loads(json_data)\n",
    "                \n",
    "                # Extract the store code\n",
    "                store_code = data['props']['pageProps']['props']['storeCode']\n",
    "                if(store_code):\n",
    "                    store_codes.append(store_code)\n",
    "                    with open('store_codes.csv', 'a') as f_object:\n",
    "                        f_object.write(store_code)\n",
    " \n",
    "        "
   ]
  },
  {
   "cell_type": "code",
   "execution_count": null,
   "id": "23c70cc9-514b-42e8-bf2f-76599a22f14f",
   "metadata": {},
   "outputs": [],
   "source": []
  }
 ],
 "metadata": {
  "kernelspec": {
   "display_name": "Python 3 (ipykernel)",
   "language": "python",
   "name": "python3"
  },
  "language_info": {
   "codemirror_mode": {
    "name": "ipython",
    "version": 3
   },
   "file_extension": ".py",
   "mimetype": "text/x-python",
   "name": "python",
   "nbconvert_exporter": "python",
   "pygments_lexer": "ipython3",
   "version": "3.11.7"
  }
 },
 "nbformat": 4,
 "nbformat_minor": 5
}
