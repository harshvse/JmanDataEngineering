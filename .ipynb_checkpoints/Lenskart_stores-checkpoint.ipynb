{
 "cells": [
  {
   "cell_type": "code",
   "execution_count": 1,
   "id": "a14a7b9c-dec0-4ac1-bf09-a6f25dde58d6",
   "metadata": {},
   "outputs": [
    {
     "name": "stdout",
     "output_type": "stream",
     "text": [
      "Requirement already satisfied: requests-html in e:\\programs\\anaconda3\\lib\\site-packages (0.10.0)\n",
      "Requirement already satisfied: requests in e:\\programs\\anaconda3\\lib\\site-packages (from requests-html) (2.31.0)\n",
      "Requirement already satisfied: pyquery in e:\\programs\\anaconda3\\lib\\site-packages (from requests-html) (2.0.0)\n",
      "Requirement already satisfied: fake-useragent in e:\\programs\\anaconda3\\lib\\site-packages (from requests-html) (1.5.1)\n",
      "Requirement already satisfied: parse in e:\\programs\\anaconda3\\lib\\site-packages (from requests-html) (1.20.1)\n",
      "Requirement already satisfied: bs4 in e:\\programs\\anaconda3\\lib\\site-packages (from requests-html) (0.0.2)\n",
      "Requirement already satisfied: w3lib in e:\\programs\\anaconda3\\lib\\site-packages (from requests-html) (2.1.2)\n",
      "Requirement already satisfied: pyppeteer>=0.0.14 in e:\\programs\\anaconda3\\lib\\site-packages (from requests-html) (2.0.0)\n",
      "Requirement already satisfied: appdirs<2.0.0,>=1.4.3 in e:\\programs\\anaconda3\\lib\\site-packages (from pyppeteer>=0.0.14->requests-html) (1.4.4)\n",
      "Requirement already satisfied: certifi>=2023 in e:\\programs\\anaconda3\\lib\\site-packages (from pyppeteer>=0.0.14->requests-html) (2024.2.2)\n",
      "Requirement already satisfied: importlib-metadata>=1.4 in e:\\programs\\anaconda3\\lib\\site-packages (from pyppeteer>=0.0.14->requests-html) (7.0.1)\n",
      "Requirement already satisfied: pyee<12.0.0,>=11.0.0 in e:\\programs\\anaconda3\\lib\\site-packages (from pyppeteer>=0.0.14->requests-html) (11.1.0)\n",
      "Requirement already satisfied: tqdm<5.0.0,>=4.42.1 in e:\\programs\\anaconda3\\lib\\site-packages (from pyppeteer>=0.0.14->requests-html) (4.65.0)\n",
      "Requirement already satisfied: urllib3<2.0.0,>=1.25.8 in e:\\programs\\anaconda3\\lib\\site-packages (from pyppeteer>=0.0.14->requests-html) (1.26.18)\n",
      "Requirement already satisfied: websockets<11.0,>=10.0 in e:\\programs\\anaconda3\\lib\\site-packages (from pyppeteer>=0.0.14->requests-html) (10.4)\n",
      "Requirement already satisfied: beautifulsoup4 in e:\\programs\\anaconda3\\lib\\site-packages (from bs4->requests-html) (4.12.2)\n",
      "Requirement already satisfied: lxml>=2.1 in e:\\programs\\anaconda3\\lib\\site-packages (from pyquery->requests-html) (4.9.3)\n",
      "Requirement already satisfied: cssselect>=1.2.0 in e:\\programs\\anaconda3\\lib\\site-packages (from pyquery->requests-html) (1.2.0)\n",
      "Requirement already satisfied: charset-normalizer<4,>=2 in e:\\programs\\anaconda3\\lib\\site-packages (from requests->requests-html) (2.0.4)\n",
      "Requirement already satisfied: idna<4,>=2.5 in e:\\programs\\anaconda3\\lib\\site-packages (from requests->requests-html) (3.4)\n",
      "Requirement already satisfied: zipp>=0.5 in e:\\programs\\anaconda3\\lib\\site-packages (from importlib-metadata>=1.4->pyppeteer>=0.0.14->requests-html) (3.17.0)\n",
      "Requirement already satisfied: typing-extensions in e:\\programs\\anaconda3\\lib\\site-packages (from pyee<12.0.0,>=11.0.0->pyppeteer>=0.0.14->requests-html) (4.9.0)\n",
      "Requirement already satisfied: colorama in e:\\programs\\anaconda3\\lib\\site-packages (from tqdm<5.0.0,>=4.42.1->pyppeteer>=0.0.14->requests-html) (0.4.6)\n",
      "Requirement already satisfied: soupsieve>1.2 in e:\\programs\\anaconda3\\lib\\site-packages (from beautifulsoup4->bs4->requests-html) (2.5)\n",
      "Note: you may need to restart the kernel to use updated packages.\n"
     ]
    }
   ],
   "source": [
    "pip install requests-html"
   ]
  },
  {
   "cell_type": "code",
   "execution_count": 4,
   "id": "512bec8b-0108-45d0-88d0-4f1f66ec228f",
   "metadata": {},
   "outputs": [],
   "source": [
    "import os\n",
    "PYPPETEER_CHROMIUM_REVISION = '1263111'\n",
    "os.environ['PYPPETEER_CHROMIUM_REVISION'] = PYPPETEER_CHROMIUM_REVISION"
   ]
  },
  {
   "cell_type": "code",
   "execution_count": null,
   "id": "b3f654f9-b9f5-49e6-abac-9bdbd8fc827b",
   "metadata": {},
   "outputs": [
    {
     "name": "stderr",
     "output_type": "stream",
     "text": [
      "Future exception was never retrieved\n",
      "future: <Future finished exception=NetworkError('Protocol error Target.detachFromTarget: Target closed.')>\n",
      "pyppeteer.errors.NetworkError: Protocol error Target.detachFromTarget: Target closed.\n",
      "Future exception was never retrieved\n",
      "future: <Future finished exception=NetworkError('Protocol error (Target.sendMessageToTarget): No session with given id')>\n",
      "pyppeteer.errors.NetworkError: Protocol error (Target.sendMessageToTarget): No session with given id\n"
     ]
    },
    {
     "name": "stdout",
     "output_type": "stream",
     "text": [
      "/stores/lenskart-com-vizianagaram-krishnarajapuram-vizianagaram-868774/Home\n",
      "/stores/optometrist-sunglasses-ramnagar-visakhapatnam-61143/Home\n",
      "/stores/lenskart-com-kakinada-opposite-super-bazar-kakinada-424309/Home\n",
      "/stores/lenskart-com-eluru-vijaya-vihar-centre-eluru-60677/Home\n",
      "/stores/optometrist-sunglasses-shanthi-nagar-chittoor-61278/Home\n",
      "/stores/lenskart-com-tadepalle-vijayawada-tadepalle-vijayawada-168473/Home\n",
      "/stores/lenskart-com-gajuwaka-gajuwaka-visakhapatnam-560561/Home\n",
      "/stores/lenskart-com-brodipet-brodipet-guntur-989277/Home\n",
      "/stores/lenskart-com-nandyal-road-kurnool-sree-rajeswari-nagar-kurnool-691490/Home\n",
      "/stores/lenskart-com-satyanarayanapuram-mutyalampadu-vijayawada-satyanarayanapuram-540326/Home\n",
      "/stores/lenskart-com-gopalapatnam-visakhapatnam-gopalapatnam-visakhapatnam-584485/Home\n",
      "/stores/lenskart-com-guru-nanak-colony-guru-nanak-colony-vijayawada-645232/Home\n",
      "/stores/lenskart-com-vijayawada-patamata-vijayawada-748414/Home\n",
      "/stores/lenskart-com-tenali-bose-road-tenali-40178/Home\n",
      "/stores/lenskart-com-vv-mahal-road-bhavani-nagar-tirupati-693399/Home\n",
      "/stores/optometrist-sunglasses-chandramouli-puram-vijayawada-61134/Home\n",
      "/stores/optometrist-sunglasses-butchirajupalem-nad-junction-visakhapatnam-61140/Home\n",
      "/stores/lenskart-com-seetarapuram-elur-road-vijayawada-700721/Home\n",
      "/stores/optometrist-sunglasses-r-s-road-kurnool-61150/Home\n",
      "/stores/optometrist-sunglasses-tilak-road-east-godavari-61151/Home\n",
      "/stores/lenskart-com-gt-road-vrc-centre-grand-trunk-road-nellore-417824/Home\n",
      "/stores/lenskart-com-vizag-seethammadara-seethammadara-visakhapatnam-24718/Home\n",
      "/stores/lenskart-com-guntur-kothapet-guntur-564086/Home\n",
      "/stores/lenskart-com-madanapalle-annamayya-madanapalle-197654/Home\n",
      "/stores/lenskart-com-vedayapalam-vedayapalem-nellore-252614/Home\n",
      "/stores/lenskart-com-mahanadu-road-mahanadu-road-vijayawada-675208/Home\n",
      "/stores/lenskart-com-ongole-kurnool-road-ongole-790000/Home\n",
      "/stores/optometrist-sunglasses-sector-6-visakhapatnam-61187/Home\n",
      "/stores/optometrist-sunglasses-lakshmipuram-guntur-61206/Home\n",
      "/stores/lenskart-com-daba-gardens-daba-gardens-vizag-269845/Home\n",
      "/stores/lenskart-com-kavali-kavali-kavali-40208/Home\n",
      "/stores/lenskart-com-rajahmundry-danavaipet-rajahmundry-83231/Home\n",
      "/stores/lenskart-com-kadapa-rajiv-park-road-kadapa-791524/Home\n",
      "/stores/lenskart-com-dargamitta-dargamitta-nellore-239683/Home\n",
      "/stores/lenskart-com-ramavarapadu-ramavarapadu-vijayawada-153731/Home\n",
      "/stores/optometrist-sunglasses-srikamtam-circle-ananthapur-61237/Home\n",
      "/stores/lenskart-com-vijayawada-bhavanipuram-vijayawada-197223/Home\n",
      "/stores/lenskart-com-bhimavaram-j-p-road-bhimavaram-373905/Home\n",
      "/stores/lenskart-com-proddatur-gandhi-road-proddatur-832356/Home\n",
      "/stores/lenskart-com-kurmannapalem-kurmanna-palem-visakhapatnam-138943/Home\n",
      "/stores/lenskart-com-dwarka-nagar-high-street-visakhapatnam-811277/Home\n",
      "/stores/lenskart-com-maddilapalem-maddilapalem-visakhapatnam-480855/Home\n",
      "/stores/lenskart-com-marripalem-kancharapalem-visakhapatnam-218136/Home\n",
      "/stores/lenskart-com-rajahmundry-janda-panja-road-rajahmundry-423138/Home\n",
      "/stores/lenskart-com-sujathanagar-ratnagiri-nagar-greater-visakhapatnam-7447/Home\n",
      "/stores/lenskart-com-gujjanagulla-gujjanagulla-guntur-352590/Home\n",
      "/stores/lenskart-com-jagdamba-maddilapalem-jagdamba-visakhapatnam-532385/Home\n",
      "/stores/lenskart-com-poranki-vijayawada-krishna-district-vijayawada-658678/Home\n",
      "/stores/lenskart-com-anakapalle-anakapalle-anakapalle-995009/Home\n",
      "/stores/optometrists-lalitha-nagar-kakinada-68120/Home\n",
      "/stores/lenskart-com-mvp-double-road-mvp-double-road-mvp-colony-visakhapatnam-449613/Home\n",
      "/stores/lenskart-com-adoni-kurnool-district-adoni-243897/Home\n",
      "/stores/lenskart-com-eluru-road-vijayawada-eluru-road-vijayawada-495648/Home\n",
      "/stores/lenskart-com-ttd-road-nandyal-srinivasa-nagar-nandyal-726691/Home\n"
     ]
    }
   ],
   "source": [
    "import requests\n",
    "from bs4 import BeautifulSoup\n",
    "import os\n",
    "import csv\n",
    "import re\n",
    "from requests_html import AsyncHTMLSession\n",
    "\n",
    "\n",
    "locations = ['andhra-pradesh', 'andmaan-nicobar', 'arunachal-pradesh', 'assam', 'bihar', 'chennai', 'chhattisgarh', 'dadra-and-nagar-haveli', 'delhi', 'goa', 'gujarat', 'gwalior', 'haryana', 'himachal-pradesh', 'hyderabad', 'jammu-and-kashmir', 'jharkhand', 'karnataka', 'kerala', 'madhya-pradesh', 'maharashtra', 'manipur', 'nagaland', 'new-delhi', 'odisha', 'patna', 'puducherry', 'punjab', 'rajasthan', 'sikkim', 'tamil-nadu', 'tamil&nbsp;nadu', 'telangana', 'tripura', 'uttar-pradesh', 'uttarakhand', 'west-bengal']\n",
    "session = AsyncHTMLSession()\n",
    "\n",
    "for location in locations:\n",
    "    url = f'https://www.lenskart.com/stores/location/{location}'\n",
    "    response = await session.get(url)  # Use await to make the request asynchronously\n",
    "    await response.html.arender(sleep=3, timeout=20)  # Wait for 3s until the page fully loads\n",
    "    soup = BeautifulSoup(response.html.raw_html, \"html.parser\")\n",
    "\n",
    "    stores = []\n",
    "    for store in soup.find_all('div', class_='StoreCard_imgContainer__P6NMN'):\n",
    "        store_link = store.find('a', attrs={'class': re.compile(r'StoreCard_name__mrTXJ')}, href=True)\n",
    "        if store_link:\n",
    "            store_name = store_link.text.strip()\n",
    "            store_url = store_link['href']\n",
    "            print(store_url)\n",
    "            stores.append([store_name, store_url])\n",
    "\n",
    "        \n",
    "    if os.path.exists('lenskart_stores.csv'):\n",
    "        if os.stat('lenskart_stores.csv').st_size > 0:\n",
    "            with open('lenskart_stores.csv', mode='a') as file:\n",
    "                writer = csv.writer(file)\n",
    "                for store in stores:\n",
    "                    writer.writerow(store)\n",
    "        else:\n",
    "            with open('lenskart_stores.csv', mode='a') as file:\n",
    "                writer = csv.writer(file)\n",
    "                writer.writerow(['Store Name', 'Address', 'Location', 'Timings', 'Latitude', 'Longitude', 'Phone'])\n",
    "                for store in stores:\n",
    "                    writer.writerow(store)\n",
    "    else:\n",
    "        with open('lenskart_stores.csv', mode='a') as file:\n",
    "                writer = csv.writer(file)\n",
    "                writer.writerow(['Store Name', 'Address', 'Location', 'Timings', 'Latitude', 'Longitude', 'Phone'])\n",
    "                for store in stores:\n",
    "                    writer.writerow(store)"
   ]
  },
  {
   "cell_type": "code",
   "execution_count": null,
   "id": "23c70cc9-514b-42e8-bf2f-76599a22f14f",
   "metadata": {},
   "outputs": [],
   "source": []
  }
 ],
 "metadata": {
  "kernelspec": {
   "display_name": "Python 3 (ipykernel)",
   "language": "python",
   "name": "python3"
  },
  "language_info": {
   "codemirror_mode": {
    "name": "ipython",
    "version": 3
   },
   "file_extension": ".py",
   "mimetype": "text/x-python",
   "name": "python",
   "nbconvert_exporter": "python",
   "pygments_lexer": "ipython3",
   "version": "3.11.7"
  }
 },
 "nbformat": 4,
 "nbformat_minor": 5
}
