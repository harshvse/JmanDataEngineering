{
 "cells": [
  {
   "cell_type": "code",
   "execution_count": 10,
   "id": "b3f654f9-b9f5-49e6-abac-9bdbd8fc827b",
   "metadata": {},
   "outputs": [],
   "source": [
    "import requests\n",
    "from bs4 import BeautifulSoup\n",
    "import os\n",
    "import csv\n",
    "\n",
    "locations = ['andhra-pradesh', 'andmaan-nicobar', 'arunachal-pradesh', 'assam', 'bihar', 'chennai', 'chhattisgarh', 'dadra-and-nagar-haveli', 'delhi', 'goa', 'gujarat', 'gwalior', 'haryana', 'himachal-pradesh', 'hyderabad', 'jammu-and-kashmir', 'jharkhand', 'karnataka', 'kerala', 'madhya-pradesh', 'maharashtra', 'manipur', 'nagaland', 'new-delhi', 'odisha', 'patna', 'puducherry', 'punjab', 'rajasthan', 'sikkim', 'tamil-nadu', 'tamil&nbsp;nadu', 'telangana', 'tripura', 'uttar-pradesh', 'uttarakhand', 'west-bengal']\n",
    "\n",
    "\n",
    "\n",
    "for location in locations:\n",
    "    url = 'https://www.lenskart.com/stores/location/' + location\n",
    "    response = requests.get(url)\n",
    "    \n",
    "    soup = BeautifulSoup(response.content, 'html.parser')\n",
    "    \n",
    "    stores = []\n",
    "    for store in soup.find_all('div', class_='StoreCard_imgContainer__P6NMN'):\n",
    "        name = store.find('a', {'class' : \"StoreCard_name__mrTXJ\"}).text\n",
    "        address = store.find('a', {'class' : 'StoreCard_storeAddress__PfC_v'}).text\n",
    "        timings = store.find('div', {'class' : 'StoreCard_storeAddress__PfC_v'}).text[7:-1]\n",
    "        phone = store.find('div', {'class' : \"StoreCard_wrapper__xhJ0A\"}).a.text[1:]\n",
    "       \n",
    "        latitude = ''\n",
    "        longitude = ''          \n",
    "        \n",
    "            \n",
    "        stores.append([name, address, location.title(), timings, latitude, longitude, phone])\n",
    "        \n",
    "        \n",
    "    if os.path.exists('lenskart_stores.csv'):\n",
    "        if os.stat('lenskart_stores.csv').st_size > 0:\n",
    "            with open('lenskart_stores.csv', mode='a') as file:\n",
    "                writer = csv.writer(file)\n",
    "                for store in stores:\n",
    "                    writer.writerow(store)\n",
    "        else:\n",
    "            with open('lenskart_stores.csv', mode='a') as file:\n",
    "                writer = csv.writer(file)\n",
    "                writer.writerow(['Store Name', 'Address', 'Location', 'Timings', 'Latitude', 'Longitude', 'Phone'])\n",
    "                for store in stores:\n",
    "                    writer.writerow(store)\n",
    "    else:\n",
    "        with open('lenskart_stores.csv', mode='a') as file:\n",
    "                writer = csv.writer(file)\n",
    "                writer.writerow(['Store Name', 'Address', 'Location', 'Timings', 'Latitude', 'Longitude', 'Phone'])\n",
    "                for store in stores:\n",
    "                    writer.writerow(store)"
   ]
  },
  {
   "cell_type": "code",
   "execution_count": null,
   "id": "faf736bf-a61b-4df3-9743-6eafef54ffd8",
   "metadata": {},
   "outputs": [],
   "source": []
  }
 ],
 "metadata": {
  "kernelspec": {
   "display_name": "Python 3 (ipykernel)",
   "language": "python",
   "name": "python3"
  },
  "language_info": {
   "codemirror_mode": {
    "name": "ipython",
    "version": 3
   },
   "file_extension": ".py",
   "mimetype": "text/x-python",
   "name": "python",
   "nbconvert_exporter": "python",
   "pygments_lexer": "ipython3",
   "version": "3.11.7"
  }
 },
 "nbformat": 4,
 "nbformat_minor": 5
}
