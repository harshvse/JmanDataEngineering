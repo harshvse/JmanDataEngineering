{
 "cells": [
  {
   "cell_type": "code",
   "execution_count": 1,
   "id": "a14a7b9c-dec0-4ac1-bf09-a6f25dde58d6",
   "metadata": {},
   "outputs": [
    {
     "name": "stdout",
     "output_type": "stream",
     "text": [
      "Requirement already satisfied: requests-html in e:\\programs\\anaconda3\\lib\\site-packages (0.10.0)\n",
      "Requirement already satisfied: requests in e:\\programs\\anaconda3\\lib\\site-packages (from requests-html) (2.31.0)\n",
      "Requirement already satisfied: pyquery in e:\\programs\\anaconda3\\lib\\site-packages (from requests-html) (2.0.0)\n",
      "Requirement already satisfied: fake-useragent in e:\\programs\\anaconda3\\lib\\site-packages (from requests-html) (1.5.1)\n",
      "Requirement already satisfied: parse in e:\\programs\\anaconda3\\lib\\site-packages (from requests-html) (1.20.1)\n",
      "Requirement already satisfied: bs4 in e:\\programs\\anaconda3\\lib\\site-packages (from requests-html) (0.0.2)\n",
      "Requirement already satisfied: w3lib in e:\\programs\\anaconda3\\lib\\site-packages (from requests-html) (2.1.2)\n",
      "Requirement already satisfied: pyppeteer>=0.0.14 in e:\\programs\\anaconda3\\lib\\site-packages (from requests-html) (2.0.0)\n",
      "Requirement already satisfied: appdirs<2.0.0,>=1.4.3 in e:\\programs\\anaconda3\\lib\\site-packages (from pyppeteer>=0.0.14->requests-html) (1.4.4)\n",
      "Requirement already satisfied: certifi>=2023 in e:\\programs\\anaconda3\\lib\\site-packages (from pyppeteer>=0.0.14->requests-html) (2024.2.2)\n",
      "Requirement already satisfied: importlib-metadata>=1.4 in e:\\programs\\anaconda3\\lib\\site-packages (from pyppeteer>=0.0.14->requests-html) (7.0.1)\n",
      "Requirement already satisfied: pyee<12.0.0,>=11.0.0 in e:\\programs\\anaconda3\\lib\\site-packages (from pyppeteer>=0.0.14->requests-html) (11.1.0)\n",
      "Requirement already satisfied: tqdm<5.0.0,>=4.42.1 in e:\\programs\\anaconda3\\lib\\site-packages (from pyppeteer>=0.0.14->requests-html) (4.65.0)\n",
      "Requirement already satisfied: urllib3<2.0.0,>=1.25.8 in e:\\programs\\anaconda3\\lib\\site-packages (from pyppeteer>=0.0.14->requests-html) (1.26.18)\n",
      "Requirement already satisfied: websockets<11.0,>=10.0 in e:\\programs\\anaconda3\\lib\\site-packages (from pyppeteer>=0.0.14->requests-html) (10.4)\n",
      "Requirement already satisfied: beautifulsoup4 in e:\\programs\\anaconda3\\lib\\site-packages (from bs4->requests-html) (4.12.2)\n",
      "Requirement already satisfied: lxml>=2.1 in e:\\programs\\anaconda3\\lib\\site-packages (from pyquery->requests-html) (4.9.3)\n",
      "Requirement already satisfied: cssselect>=1.2.0 in e:\\programs\\anaconda3\\lib\\site-packages (from pyquery->requests-html) (1.2.0)\n",
      "Requirement already satisfied: charset-normalizer<4,>=2 in e:\\programs\\anaconda3\\lib\\site-packages (from requests->requests-html) (2.0.4)\n",
      "Requirement already satisfied: idna<4,>=2.5 in e:\\programs\\anaconda3\\lib\\site-packages (from requests->requests-html) (3.4)\n",
      "Requirement already satisfied: zipp>=0.5 in e:\\programs\\anaconda3\\lib\\site-packages (from importlib-metadata>=1.4->pyppeteer>=0.0.14->requests-html) (3.17.0)\n",
      "Requirement already satisfied: typing-extensions in e:\\programs\\anaconda3\\lib\\site-packages (from pyee<12.0.0,>=11.0.0->pyppeteer>=0.0.14->requests-html) (4.9.0)\n",
      "Requirement already satisfied: colorama in e:\\programs\\anaconda3\\lib\\site-packages (from tqdm<5.0.0,>=4.42.1->pyppeteer>=0.0.14->requests-html) (0.4.6)\n",
      "Requirement already satisfied: soupsieve>1.2 in e:\\programs\\anaconda3\\lib\\site-packages (from beautifulsoup4->bs4->requests-html) (2.5)\n",
      "Note: you may need to restart the kernel to use updated packages.\n"
     ]
    }
   ],
   "source": [
    "pip install requests-html"
   ]
  },
  {
   "cell_type": "code",
   "execution_count": 2,
   "id": "512bec8b-0108-45d0-88d0-4f1f66ec228f",
   "metadata": {},
   "outputs": [],
   "source": [
    "import os\n",
    "PYPPETEER_CHROMIUM_REVISION = '1263111'\n",
    "os.environ['PYPPETEER_CHROMIUM_REVISION'] = PYPPETEER_CHROMIUM_REVISION"
   ]
  },
  {
   "cell_type": "code",
   "execution_count": 3,
   "id": "b3f654f9-b9f5-49e6-abac-9bdbd8fc827b",
   "metadata": {
    "scrolled": true
   },
   "outputs": [
    {
     "name": "stderr",
     "output_type": "stream",
     "text": [
      "Future exception was never retrieved\n",
      "future: <Future finished exception=NetworkError('Protocol error Target.detachFromTarget: Target closed.')>\n",
      "pyppeteer.errors.NetworkError: Protocol error Target.detachFromTarget: Target closed.\n",
      "Future exception was never retrieved\n",
      "future: <Future finished exception=NetworkError('Protocol error (Target.sendMessageToTarget): No session with given id')>\n",
      "pyppeteer.errors.NetworkError: Protocol error (Target.sendMessageToTarget): No session with given id\n",
      "Future exception was never retrieved\n",
      "future: <Future finished exception=NetworkError('Protocol error Target.detachFromTarget: Target closed.')>\n",
      "pyppeteer.errors.NetworkError: Protocol error Target.detachFromTarget: Target closed.\n",
      "Future exception was never retrieved\n",
      "future: <Future finished exception=NetworkError('Protocol error (Target.sendMessageToTarget): No session with given id')>\n",
      "pyppeteer.errors.NetworkError: Protocol error (Target.sendMessageToTarget): No session with given id\n"
     ]
    },
    {
     "name": "stdout",
     "output_type": "stream",
     "text": [
      "{'props': {'pageProps': {'statusCode': 404}}, 'page': '/_error', 'query': {}, 'buildId': 'bpFAsP75rdUR1aZp5sjdF', 'assetPrefix': '/stores', 'isFallback': False, 'dynamicIds': [1561], 'gip': True, 'scriptLoader': []}\n"
     ]
    },
    {
     "name": "stderr",
     "output_type": "stream",
     "text": [
      "Future exception was never retrieved\n",
      "future: <Future finished exception=NetworkError('Protocol error Target.detachFromTarget: Target closed.')>\n",
      "pyppeteer.errors.NetworkError: Protocol error Target.detachFromTarget: Target closed.\n",
      "Future exception was never retrieved\n",
      "future: <Future finished exception=NetworkError('Protocol error (Target.sendMessageToTarget): No session with given id')>\n",
      "pyppeteer.errors.NetworkError: Protocol error (Target.sendMessageToTarget): No session with given id\n",
      "Future exception was never retrieved\n",
      "future: <Future finished exception=NetworkError('Protocol error Target.detachFromTarget: Target closed.')>\n",
      "pyppeteer.errors.NetworkError: Protocol error Target.detachFromTarget: Target closed.\n",
      "Future exception was never retrieved\n",
      "future: <Future finished exception=NetworkError('Protocol error (Target.sendMessageToTarget): No session with given id')>\n",
      "pyppeteer.errors.NetworkError: Protocol error (Target.sendMessageToTarget): No session with given id\n",
      "Future exception was never retrieved\n",
      "future: <Future finished exception=NetworkError('Protocol error Target.detachFromTarget: Target closed.')>\n",
      "pyppeteer.errors.NetworkError: Protocol error Target.detachFromTarget: Target closed.\n",
      "Future exception was never retrieved\n",
      "future: <Future finished exception=NetworkError('Protocol error (Target.sendMessageToTarget): No session with given id')>\n",
      "pyppeteer.errors.NetworkError: Protocol error (Target.sendMessageToTarget): No session with given id\n",
      "Future exception was never retrieved\n",
      "future: <Future finished exception=NetworkError('Protocol error Target.detachFromTarget: Target closed.')>\n",
      "pyppeteer.errors.NetworkError: Protocol error Target.detachFromTarget: Target closed.\n",
      "Future exception was never retrieved\n",
      "future: <Future finished exception=NetworkError('Protocol error (Target.sendMessageToTarget): No session with given id')>\n",
      "pyppeteer.errors.NetworkError: Protocol error (Target.sendMessageToTarget): No session with given id\n",
      "Future exception was never retrieved\n",
      "future: <Future finished exception=NetworkError('Protocol error Target.detachFromTarget: Target closed.')>\n",
      "pyppeteer.errors.NetworkError: Protocol error Target.detachFromTarget: Target closed.\n",
      "Future exception was never retrieved\n",
      "future: <Future finished exception=NetworkError('Protocol error (Target.sendMessageToTarget): No session with given id')>\n",
      "pyppeteer.errors.NetworkError: Protocol error (Target.sendMessageToTarget): No session with given id\n",
      "Future exception was never retrieved\n",
      "future: <Future finished exception=NetworkError('Protocol error Target.detachFromTarget: Target closed.')>\n",
      "pyppeteer.errors.NetworkError: Protocol error Target.detachFromTarget: Target closed.\n",
      "Future exception was never retrieved\n",
      "future: <Future finished exception=NetworkError('Protocol error (Target.sendMessageToTarget): No session with given id')>\n",
      "pyppeteer.errors.NetworkError: Protocol error (Target.sendMessageToTarget): No session with given id\n",
      "Future exception was never retrieved\n",
      "future: <Future finished exception=NetworkError('Protocol error Target.detachFromTarget: Target closed.')>\n",
      "pyppeteer.errors.NetworkError: Protocol error Target.detachFromTarget: Target closed.\n",
      "Future exception was never retrieved\n",
      "future: <Future finished exception=NetworkError('Protocol error (Target.sendMessageToTarget): No session with given id')>\n",
      "pyppeteer.errors.NetworkError: Protocol error (Target.sendMessageToTarget): No session with given id\n",
      "Future exception was never retrieved\n",
      "future: <Future finished exception=NetworkError('Protocol error Target.detachFromTarget: Target closed.')>\n",
      "pyppeteer.errors.NetworkError: Protocol error Target.detachFromTarget: Target closed.\n",
      "Future exception was never retrieved\n",
      "future: <Future finished exception=NetworkError('Protocol error (Target.sendMessageToTarget): No session with given id')>\n",
      "pyppeteer.errors.NetworkError: Protocol error (Target.sendMessageToTarget): No session with given id\n",
      "Future exception was never retrieved\n",
      "future: <Future finished exception=NetworkError('Protocol error Target.detachFromTarget: Target closed.')>\n",
      "pyppeteer.errors.NetworkError: Protocol error Target.detachFromTarget: Target closed.\n",
      "Future exception was never retrieved\n",
      "future: <Future finished exception=NetworkError('Protocol error (Target.sendMessageToTarget): No session with given id')>\n",
      "pyppeteer.errors.NetworkError: Protocol error (Target.sendMessageToTarget): No session with given id\n",
      "Future exception was never retrieved\n",
      "future: <Future finished exception=NetworkError('Protocol error Target.detachFromTarget: Target closed.')>\n",
      "pyppeteer.errors.NetworkError: Protocol error Target.detachFromTarget: Target closed.\n",
      "Future exception was never retrieved\n",
      "future: <Future finished exception=NetworkError('Protocol error (Target.sendMessageToTarget): No session with given id')>\n",
      "pyppeteer.errors.NetworkError: Protocol error (Target.sendMessageToTarget): No session with given id\n",
      "Future exception was never retrieved\n",
      "future: <Future finished exception=NetworkError('Protocol error Target.detachFromTarget: Target closed.')>\n",
      "pyppeteer.errors.NetworkError: Protocol error Target.detachFromTarget: Target closed.\n",
      "Future exception was never retrieved\n",
      "future: <Future finished exception=NetworkError('Protocol error (Target.sendMessageToTarget): No session with given id')>\n",
      "pyppeteer.errors.NetworkError: Protocol error (Target.sendMessageToTarget): No session with given id\n",
      "Future exception was never retrieved\n",
      "future: <Future finished exception=NetworkError('Protocol error Target.detachFromTarget: Target closed.')>\n",
      "pyppeteer.errors.NetworkError: Protocol error Target.detachFromTarget: Target closed.\n",
      "Future exception was never retrieved\n",
      "future: <Future finished exception=NetworkError('Protocol error (Target.sendMessageToTarget): No session with given id')>\n",
      "pyppeteer.errors.NetworkError: Protocol error (Target.sendMessageToTarget): No session with given id\n",
      "Future exception was never retrieved\n",
      "future: <Future finished exception=NetworkError('Protocol error Target.detachFromTarget: Target closed.')>\n",
      "pyppeteer.errors.NetworkError: Protocol error Target.detachFromTarget: Target closed.\n",
      "Future exception was never retrieved\n",
      "future: <Future finished exception=NetworkError('Protocol error (Target.sendMessageToTarget): No session with given id')>\n",
      "pyppeteer.errors.NetworkError: Protocol error (Target.sendMessageToTarget): No session with given id\n",
      "Future exception was never retrieved\n",
      "future: <Future finished exception=NetworkError('Protocol error Target.detachFromTarget: Target closed.')>\n",
      "pyppeteer.errors.NetworkError: Protocol error Target.detachFromTarget: Target closed.\n",
      "Future exception was never retrieved\n",
      "future: <Future finished exception=NetworkError('Protocol error (Target.sendMessageToTarget): No session with given id')>\n",
      "pyppeteer.errors.NetworkError: Protocol error (Target.sendMessageToTarget): No session with given id\n",
      "Future exception was never retrieved\n",
      "future: <Future finished exception=NetworkError('Protocol error Target.detachFromTarget: Target closed.')>\n",
      "pyppeteer.errors.NetworkError: Protocol error Target.detachFromTarget: Target closed.\n",
      "Future exception was never retrieved\n",
      "future: <Future finished exception=NetworkError('Protocol error (Target.sendMessageToTarget): No session with given id')>\n",
      "pyppeteer.errors.NetworkError: Protocol error (Target.sendMessageToTarget): No session with given id\n",
      "Future exception was never retrieved\n",
      "future: <Future finished exception=NetworkError('Protocol error Target.detachFromTarget: Target closed.')>\n",
      "pyppeteer.errors.NetworkError: Protocol error Target.detachFromTarget: Target closed.\n",
      "Future exception was never retrieved\n",
      "future: <Future finished exception=NetworkError('Protocol error (Target.sendMessageToTarget): No session with given id')>\n",
      "pyppeteer.errors.NetworkError: Protocol error (Target.sendMessageToTarget): No session with given id\n"
     ]
    },
    {
     "name": "stdout",
     "output_type": "stream",
     "text": [
      "https://www.lenskart.com/stores/location/kerala\n"
     ]
    },
    {
     "name": "stderr",
     "output_type": "stream",
     "text": [
      "Future exception was never retrieved\n",
      "future: <Future finished exception=NetworkError('Protocol error Target.detachFromTarget: Target closed.')>\n",
      "pyppeteer.errors.NetworkError: Protocol error Target.detachFromTarget: Target closed.\n",
      "Future exception was never retrieved\n",
      "future: <Future finished exception=NetworkError('Protocol error (Target.sendMessageToTarget): No session with given id')>\n",
      "pyppeteer.errors.NetworkError: Protocol error (Target.sendMessageToTarget): No session with given id\n",
      "Future exception was never retrieved\n",
      "future: <Future finished exception=NetworkError('Protocol error Target.detachFromTarget: Target closed.')>\n",
      "pyppeteer.errors.NetworkError: Protocol error Target.detachFromTarget: Target closed.\n",
      "Future exception was never retrieved\n",
      "future: <Future finished exception=NetworkError('Protocol error (Target.sendMessageToTarget): No session with given id')>\n",
      "pyppeteer.errors.NetworkError: Protocol error (Target.sendMessageToTarget): No session with given id\n"
     ]
    },
    {
     "name": "stdout",
     "output_type": "stream",
     "text": [
      "https://www.lenskart.com/stores/location/manipur\n"
     ]
    },
    {
     "name": "stderr",
     "output_type": "stream",
     "text": [
      "Future exception was never retrieved\n",
      "future: <Future finished exception=NetworkError('Protocol error Target.detachFromTarget: Target closed.')>\n",
      "pyppeteer.errors.NetworkError: Protocol error Target.detachFromTarget: Target closed.\n",
      "Future exception was never retrieved\n",
      "future: <Future finished exception=NetworkError('Protocol error (Target.sendMessageToTarget): No session with given id')>\n",
      "pyppeteer.errors.NetworkError: Protocol error (Target.sendMessageToTarget): No session with given id\n",
      "Future exception was never retrieved\n",
      "future: <Future finished exception=NetworkError('Protocol error Target.detachFromTarget: Target closed.')>\n",
      "pyppeteer.errors.NetworkError: Protocol error Target.detachFromTarget: Target closed.\n",
      "Future exception was never retrieved\n",
      "future: <Future finished exception=NetworkError('Protocol error (Target.sendMessageToTarget): No session with given id')>\n",
      "pyppeteer.errors.NetworkError: Protocol error (Target.sendMessageToTarget): No session with given id\n",
      "Future exception was never retrieved\n",
      "future: <Future finished exception=NetworkError('Protocol error Target.detachFromTarget: Target closed.')>\n",
      "pyppeteer.errors.NetworkError: Protocol error Target.detachFromTarget: Target closed.\n",
      "Future exception was never retrieved\n",
      "future: <Future finished exception=NetworkError('Protocol error (Target.sendMessageToTarget): No session with given id')>\n",
      "pyppeteer.errors.NetworkError: Protocol error (Target.sendMessageToTarget): No session with given id\n",
      "Future exception was never retrieved\n",
      "future: <Future finished exception=NetworkError('Protocol error Target.detachFromTarget: Target closed.')>\n",
      "pyppeteer.errors.NetworkError: Protocol error Target.detachFromTarget: Target closed.\n",
      "Future exception was never retrieved\n",
      "future: <Future finished exception=NetworkError('Protocol error (Target.sendMessageToTarget): No session with given id')>\n",
      "pyppeteer.errors.NetworkError: Protocol error (Target.sendMessageToTarget): No session with given id\n",
      "Future exception was never retrieved\n",
      "future: <Future finished exception=NetworkError('Protocol error Target.detachFromTarget: Target closed.')>\n",
      "pyppeteer.errors.NetworkError: Protocol error Target.detachFromTarget: Target closed.\n",
      "Future exception was never retrieved\n",
      "future: <Future finished exception=NetworkError('Protocol error (Target.sendMessageToTarget): No session with given id')>\n",
      "pyppeteer.errors.NetworkError: Protocol error (Target.sendMessageToTarget): No session with given id\n",
      "Future exception was never retrieved\n",
      "future: <Future finished exception=NetworkError('Protocol error Target.detachFromTarget: Target closed.')>\n",
      "pyppeteer.errors.NetworkError: Protocol error Target.detachFromTarget: Target closed.\n",
      "Future exception was never retrieved\n",
      "future: <Future finished exception=NetworkError('Protocol error (Target.sendMessageToTarget): No session with given id')>\n",
      "pyppeteer.errors.NetworkError: Protocol error (Target.sendMessageToTarget): No session with given id\n",
      "Future exception was never retrieved\n",
      "future: <Future finished exception=NetworkError('Protocol error Target.detachFromTarget: Target closed.')>\n",
      "pyppeteer.errors.NetworkError: Protocol error Target.detachFromTarget: Target closed.\n",
      "Future exception was never retrieved\n",
      "future: <Future finished exception=NetworkError('Protocol error (Target.sendMessageToTarget): No session with given id')>\n",
      "pyppeteer.errors.NetworkError: Protocol error (Target.sendMessageToTarget): No session with given id\n"
     ]
    },
    {
     "name": "stdout",
     "output_type": "stream",
     "text": [
      "https://www.lenskart.com/stores/location/rajasthan\n",
      "https://www.lenskart.com/stores/location/sikkim\n",
      "https://www.lenskart.com/stores/location/tamil-nadu\n"
     ]
    },
    {
     "name": "stderr",
     "output_type": "stream",
     "text": [
      "Future exception was never retrieved\n",
      "future: <Future finished exception=NetworkError('Protocol error Target.detachFromTarget: Target closed.')>\n",
      "pyppeteer.errors.NetworkError: Protocol error Target.detachFromTarget: Target closed.\n",
      "Future exception was never retrieved\n",
      "future: <Future finished exception=NetworkError('Protocol error (Target.sendMessageToTarget): No session with given id')>\n",
      "pyppeteer.errors.NetworkError: Protocol error (Target.sendMessageToTarget): No session with given id\n",
      "Future exception was never retrieved\n",
      "future: <Future finished exception=NetworkError('Protocol error Target.detachFromTarget: Target closed.')>\n",
      "pyppeteer.errors.NetworkError: Protocol error Target.detachFromTarget: Target closed.\n",
      "Future exception was never retrieved\n",
      "future: <Future finished exception=NetworkError('Protocol error (Target.sendMessageToTarget): No session with given id')>\n",
      "pyppeteer.errors.NetworkError: Protocol error (Target.sendMessageToTarget): No session with given id\n"
     ]
    },
    {
     "name": "stdout",
     "output_type": "stream",
     "text": [
      "https://www.lenskart.com/stores/location/tripura\n"
     ]
    },
    {
     "name": "stderr",
     "output_type": "stream",
     "text": [
      "Future exception was never retrieved\n",
      "future: <Future finished exception=NetworkError('Protocol error Target.detachFromTarget: Target closed.')>\n",
      "pyppeteer.errors.NetworkError: Protocol error Target.detachFromTarget: Target closed.\n",
      "Future exception was never retrieved\n",
      "future: <Future finished exception=NetworkError('Protocol error (Target.sendMessageToTarget): No session with given id')>\n",
      "pyppeteer.errors.NetworkError: Protocol error (Target.sendMessageToTarget): No session with given id\n"
     ]
    },
    {
     "name": "stdout",
     "output_type": "stream",
     "text": [
      "https://www.lenskart.com/stores/location/uttarakhand\n"
     ]
    },
    {
     "name": "stderr",
     "output_type": "stream",
     "text": [
      "Future exception was never retrieved\n",
      "future: <Future finished exception=NetworkError('Protocol error Target.detachFromTarget: Target closed.')>\n",
      "pyppeteer.errors.NetworkError: Protocol error Target.detachFromTarget: Target closed.\n",
      "Future exception was never retrieved\n",
      "future: <Future finished exception=NetworkError('Protocol error (Target.sendMessageToTarget): No session with given id')>\n",
      "pyppeteer.errors.NetworkError: Protocol error (Target.sendMessageToTarget): No session with given id\n"
     ]
    }
   ],
   "source": [
    "import requests\n",
    "from bs4 import BeautifulSoup\n",
    "import os\n",
    "import csv\n",
    "import re\n",
    "from requests_html import AsyncHTMLSession\n",
    "import json\n",
    "\n",
    "locations = ['andhra-pradesh', 'andmaan-nicobar', 'arunachal-pradesh', 'assam', 'bihar', 'chennai', 'chhattisgarh', 'dadra-and-nagar-haveli', 'delhi', 'goa', 'gujarat', 'gwalior', 'haryana', 'himachal-pradesh', 'hyderabad', 'jammu-and-kashmir', 'jharkhand', 'karnataka', 'kerala', 'madhya-pradesh', 'maharashtra', 'manipur', 'nagaland', 'new-delhi', 'odisha', 'patna', 'puducherry', 'punjab', 'rajasthan', 'sikkim', 'tamil-nadu', 'tamil&nbsp;nadu', 'telangana', 'tripura', 'uttar-pradesh', 'uttarakhand', 'west-bengal']\n",
    "session = AsyncHTMLSession()\n",
    "\n",
    "for location in locations:\n",
    "    try:\n",
    "        url = f'https://www.lenskart.com/stores/location/{location}'\n",
    "        response = await session.get(url)  # Use await to make the request asynchronously\n",
    "        await response.html.arender(sleep=3, timeout=20)  # Wait for 3s until the page fully loads\n",
    "        soup = BeautifulSoup(response.html.raw_html, \"html.parser\")\n",
    "    \n",
    "        \n",
    "        stores = []\n",
    "        for store in soup.find_all('div', class_='StoreCard_imgContainer__P6NMN'):\n",
    "            name = store.find('a', {'class' : \"StoreCard_name__mrTXJ\"}).text\n",
    "            address = store.find('a', {'class' : 'StoreCard_storeAddress__PfC_v'}).text\n",
    "            timings = store.find('div', {'class' : 'StoreCard_storeAddress__PfC_v'}).text[7:-1]\n",
    "            phone = store.find('div', {'class' : \"StoreCard_wrapper__xhJ0A\"}).a.text[1:]\n",
    "            store_link = store.find('a', attrs={'class': re.compile(r'StoreCard_name__mrTXJ')}, href=True)\n",
    "    \n",
    "            if store_link:\n",
    "                store_url = store_link['href']\n",
    "                store_page = requests.get(\"https://www.lenskart.com\" + store_url)\n",
    "                soup = BeautifulSoup(store_page.text, \"html.parser\")\n",
    "                # Find the <script> tag containing the JSON data\n",
    "                script_tag = soup.find('script', {'id': '__NEXT_DATA__'})\n",
    "                if(script_tag):\n",
    "                    # Extract the JSON data from the script tag\n",
    "                    json_data = script_tag.string\n",
    "                    \n",
    "                    # Parse the JSON data\n",
    "                    data = json.loads(json_data)\n",
    "                    try:\n",
    "                        store_code = data['props']['pageProps']['props']['storeCode']\n",
    "                        if(store_code):\n",
    "                            stores.append([name, address, location.title(), timings, phone, store_url, store_code])\n",
    "                    except:\n",
    "                        print(data)\n",
    "                        pass\n",
    "    \n",
    "        if os.path.exists('lenskart_stores_with_codes.csv'):\n",
    "            if os.stat('lenskart_stores_with_codes.csv').st_size > 0:\n",
    "                with open('lenskart_stores_with_codes.csv', mode='a') as file:\n",
    "                    writer = csv.writer(file)\n",
    "                    for store in stores:\n",
    "                        writer.writerow(store)\n",
    "            else:\n",
    "                with open('lenskart_stores_with_codes.csv', mode='a') as file:\n",
    "                    writer = csv.writer(file)\n",
    "                    writer.writerow(['Store Name', 'Address', 'Location', 'Timings', 'Phone', 'store_url', 'store_code'])\n",
    "                    for store in stores:\n",
    "                        writer.writerow(store)\n",
    "        else:\n",
    "            with open('lenskart_stores_with_codes.csv', mode='a') as file:\n",
    "                writer = csv.writer(file)\n",
    "                writer.writerow(['Store Name', 'Address', 'Location', 'Timings', 'Phone', 'store_url', 'store_code'])\n",
    "                for store in stores:\n",
    "                    writer.writerow(store)\n",
    "    except:\n",
    "        print(url)\n",
    "        pass"
   ]
  },
  {
   "cell_type": "code",
   "execution_count": null,
   "id": "2ca078b3-b070-492d-993d-45ded6152237",
   "metadata": {},
   "outputs": [],
   "source": []
  }
 ],
 "metadata": {
  "kernelspec": {
   "display_name": "Python 3 (ipykernel)",
   "language": "python",
   "name": "python3"
  },
  "language_info": {
   "codemirror_mode": {
    "name": "ipython",
    "version": 3
   },
   "file_extension": ".py",
   "mimetype": "text/x-python",
   "name": "python",
   "nbconvert_exporter": "python",
   "pygments_lexer": "ipython3",
   "version": "3.11.7"
  }
 },
 "nbformat": 4,
 "nbformat_minor": 5
}
